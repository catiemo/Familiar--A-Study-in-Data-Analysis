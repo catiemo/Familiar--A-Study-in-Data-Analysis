{
 "cells": [
  {
   "cell_type": "markdown",
   "id": "ed66cd1f",
   "metadata": {},
   "source": [
    "### Importing Libraries"
   ]
  },
  {
   "cell_type": "code",
   "execution_count": 1,
   "id": "a6ddf2f7",
   "metadata": {},
   "outputs": [],
   "source": [
    "import pandas as pd\n",
    "import numpy as np"
   ]
  },
  {
   "cell_type": "markdown",
   "id": "65606374",
   "metadata": {},
   "source": [
    "### Reading csv file"
   ]
  },
  {
   "cell_type": "code",
   "execution_count": 20,
   "id": "16f55a48",
   "metadata": {},
   "outputs": [
    {
     "data": {
      "text/html": [
       "<div>\n",
       "<style scoped>\n",
       "    .dataframe tbody tr th:only-of-type {\n",
       "        vertical-align: middle;\n",
       "    }\n",
       "\n",
       "    .dataframe tbody tr th {\n",
       "        vertical-align: top;\n",
       "    }\n",
       "\n",
       "    .dataframe thead th {\n",
       "        text-align: right;\n",
       "    }\n",
       "</style>\n",
       "<table border=\"1\" class=\"dataframe\">\n",
       "  <thead>\n",
       "    <tr style=\"text-align: right;\">\n",
       "      <th></th>\n",
       "      <th>pack</th>\n",
       "      <th>lifespan</th>\n",
       "    </tr>\n",
       "  </thead>\n",
       "  <tbody>\n",
       "    <tr>\n",
       "      <th>0</th>\n",
       "      <td>vein</td>\n",
       "      <td>76.255090</td>\n",
       "    </tr>\n",
       "    <tr>\n",
       "      <th>1</th>\n",
       "      <td>artery</td>\n",
       "      <td>76.404504</td>\n",
       "    </tr>\n",
       "    <tr>\n",
       "      <th>2</th>\n",
       "      <td>artery</td>\n",
       "      <td>75.952442</td>\n",
       "    </tr>\n",
       "    <tr>\n",
       "      <th>3</th>\n",
       "      <td>artery</td>\n",
       "      <td>76.923082</td>\n",
       "    </tr>\n",
       "    <tr>\n",
       "      <th>4</th>\n",
       "      <td>artery</td>\n",
       "      <td>73.771212</td>\n",
       "    </tr>\n",
       "  </tbody>\n",
       "</table>\n",
       "</div>"
      ],
      "text/plain": [
       "     pack   lifespan\n",
       "0    vein  76.255090\n",
       "1  artery  76.404504\n",
       "2  artery  75.952442\n",
       "3  artery  76.923082\n",
       "4  artery  73.771212"
      ]
     },
     "execution_count": 20,
     "metadata": {},
     "output_type": "execute_result"
    }
   ],
   "source": [
    "lifespans = pd.read_csv('familiar_lifespan.csv')\n",
    "lifespans.head()"
   ]
  },
  {
   "cell_type": "markdown",
   "id": "c86fbd06",
   "metadata": {},
   "source": [
    "### Filtering lifespans dataframe for Familiar's most basic package, Vein"
   ]
  },
  {
   "cell_type": "code",
   "execution_count": 12,
   "id": "7b06c3b9",
   "metadata": {},
   "outputs": [
    {
     "data": {
      "text/plain": [
       "0     76.255090\n",
       "7     74.502021\n",
       "8     76.937674\n",
       "9     74.838006\n",
       "11    77.484756\n",
       "Name: lifespan, dtype: float64"
      ]
     },
     "execution_count": 12,
     "metadata": {},
     "output_type": "execute_result"
    }
   ],
   "source": [
    "vein_pack_lifespans = lifespans.lifespan[lifespans.pack == 'vein']\n",
    "vein_pack_lifespans.head()"
   ]
  },
  {
   "cell_type": "markdown",
   "id": "f5596e86",
   "metadata": {},
   "source": [
    "### Average lifespan for Vein Pack subscribers"
   ]
  },
  {
   "cell_type": "code",
   "execution_count": 22,
   "id": "4380e2b1",
   "metadata": {},
   "outputs": [
    {
     "data": {
      "text/plain": [
       "76.16901335636044"
      ]
     },
     "execution_count": 22,
     "metadata": {},
     "output_type": "execute_result"
    }
   ],
   "source": [
    "vein_pack_lifespans.mean()"
   ]
  },
  {
   "cell_type": "markdown",
   "id": "34ec948f",
   "metadata": {},
   "source": [
    "### Hypothesis to check if the average lifespan of a Vein Pack subscriber is significantly different from the average life expectancy of 73 years"
   ]
  },
  {
   "cell_type": "code",
   "execution_count": 14,
   "id": "60a7a4bb",
   "metadata": {},
   "outputs": [
    {
     "data": {
      "text/plain": [
       "5.972157921433211e-07"
      ]
     },
     "execution_count": 14,
     "metadata": {},
     "output_type": "execute_result"
    }
   ],
   "source": [
    "from scipy.stats import ttest_1samp\n",
    "ttest, pval = ttest_1samp(vein_pack_lifespans, 73)\n",
    "pval"
   ]
  },
  {
   "cell_type": "markdown",
   "id": "ffd53eee",
   "metadata": {},
   "source": [
    "### Extracting the lifespans of subscribers to the Artery Pack"
   ]
  },
  {
   "cell_type": "code",
   "execution_count": 15,
   "id": "05e1ba95",
   "metadata": {},
   "outputs": [
    {
     "data": {
      "text/plain": [
       "1    76.404504\n",
       "2    75.952442\n",
       "3    76.923082\n",
       "4    73.771212\n",
       "5    74.117420\n",
       "Name: lifespan, dtype: float64"
      ]
     },
     "execution_count": 15,
     "metadata": {},
     "output_type": "execute_result"
    }
   ],
   "source": [
    "artery_pack_lifespans = lifespans.lifespan[lifespans.pack == 'artery']\n",
    "artery_pack_lifespans.head()"
   ]
  },
  {
   "cell_type": "markdown",
   "id": "e2dbe6a2",
   "metadata": {},
   "source": [
    "### Average lifespan for Artery Pack subscribers"
   ]
  },
  {
   "cell_type": "code",
   "execution_count": 16,
   "id": "e619fd6d",
   "metadata": {},
   "outputs": [
    {
     "data": {
      "text/plain": [
       "74.87366223517039"
      ]
     },
     "execution_count": 16,
     "metadata": {},
     "output_type": "execute_result"
    }
   ],
   "source": [
    "artery_pack_lifespans.mean()"
   ]
  },
  {
   "cell_type": "markdown",
   "id": "5f67ed51",
   "metadata": {},
   "source": [
    "### Hypothesis to check if the average lifespan of a Vein Pack subscriber is significantly different from the average life expectancy for the Artery Pack"
   ]
  },
  {
   "cell_type": "code",
   "execution_count": 17,
   "id": "b4ad4090",
   "metadata": {},
   "outputs": [
    {
     "data": {
      "text/plain": [
       "0.05588883079070819"
      ]
     },
     "execution_count": 17,
     "metadata": {},
     "output_type": "execute_result"
    }
   ],
   "source": [
    "from scipy.stats import ttest_ind\n",
    "ttest, pval = ttest_ind(artery_pack_lifespans, vein_pack_lifespans)\n",
    "pval"
   ]
  },
  {
   "cell_type": "markdown",
   "id": "f97afaf9",
   "metadata": {},
   "source": [
    "### Reading the csv file"
   ]
  },
  {
   "cell_type": "code",
   "execution_count": 21,
   "id": "20b7b3b7",
   "metadata": {},
   "outputs": [
    {
     "data": {
      "text/html": [
       "<div>\n",
       "<style scoped>\n",
       "    .dataframe tbody tr th:only-of-type {\n",
       "        vertical-align: middle;\n",
       "    }\n",
       "\n",
       "    .dataframe tbody tr th {\n",
       "        vertical-align: top;\n",
       "    }\n",
       "\n",
       "    .dataframe thead th {\n",
       "        text-align: right;\n",
       "    }\n",
       "</style>\n",
       "<table border=\"1\" class=\"dataframe\">\n",
       "  <thead>\n",
       "    <tr style=\"text-align: right;\">\n",
       "      <th></th>\n",
       "      <th>pack</th>\n",
       "      <th>iron</th>\n",
       "    </tr>\n",
       "  </thead>\n",
       "  <tbody>\n",
       "    <tr>\n",
       "      <th>0</th>\n",
       "      <td>vein</td>\n",
       "      <td>low</td>\n",
       "    </tr>\n",
       "    <tr>\n",
       "      <th>1</th>\n",
       "      <td>artery</td>\n",
       "      <td>normal</td>\n",
       "    </tr>\n",
       "    <tr>\n",
       "      <th>2</th>\n",
       "      <td>artery</td>\n",
       "      <td>normal</td>\n",
       "    </tr>\n",
       "    <tr>\n",
       "      <th>3</th>\n",
       "      <td>artery</td>\n",
       "      <td>normal</td>\n",
       "    </tr>\n",
       "    <tr>\n",
       "      <th>4</th>\n",
       "      <td>artery</td>\n",
       "      <td>high</td>\n",
       "    </tr>\n",
       "  </tbody>\n",
       "</table>\n",
       "</div>"
      ],
      "text/plain": [
       "     pack    iron\n",
       "0    vein     low\n",
       "1  artery  normal\n",
       "2  artery  normal\n",
       "3  artery  normal\n",
       "4  artery    high"
      ]
     },
     "execution_count": 21,
     "metadata": {},
     "output_type": "execute_result"
    }
   ],
   "source": [
    "iron = pd.read_csv('familiar_iron.csv')\n",
    "iron.head()"
   ]
  },
  {
   "cell_type": "markdown",
   "id": "077109d2",
   "metadata": {},
   "source": [
    "### Contingency table of the pack and iron columns"
   ]
  },
  {
   "cell_type": "code",
   "execution_count": 18,
   "id": "811b2e5f",
   "metadata": {},
   "outputs": [
    {
     "data": {
      "text/html": [
       "<div>\n",
       "<style scoped>\n",
       "    .dataframe tbody tr th:only-of-type {\n",
       "        vertical-align: middle;\n",
       "    }\n",
       "\n",
       "    .dataframe tbody tr th {\n",
       "        vertical-align: top;\n",
       "    }\n",
       "\n",
       "    .dataframe thead th {\n",
       "        text-align: right;\n",
       "    }\n",
       "</style>\n",
       "<table border=\"1\" class=\"dataframe\">\n",
       "  <thead>\n",
       "    <tr style=\"text-align: right;\">\n",
       "      <th>iron</th>\n",
       "      <th>high</th>\n",
       "      <th>low</th>\n",
       "      <th>normal</th>\n",
       "    </tr>\n",
       "    <tr>\n",
       "      <th>pack</th>\n",
       "      <th></th>\n",
       "      <th></th>\n",
       "      <th></th>\n",
       "    </tr>\n",
       "  </thead>\n",
       "  <tbody>\n",
       "    <tr>\n",
       "      <th>artery</th>\n",
       "      <td>87</td>\n",
       "      <td>29</td>\n",
       "      <td>29</td>\n",
       "    </tr>\n",
       "    <tr>\n",
       "      <th>vein</th>\n",
       "      <td>20</td>\n",
       "      <td>140</td>\n",
       "      <td>40</td>\n",
       "    </tr>\n",
       "  </tbody>\n",
       "</table>\n",
       "</div>"
      ],
      "text/plain": [
       "iron    high  low  normal\n",
       "pack                     \n",
       "artery    87   29      29\n",
       "vein      20  140      40"
      ]
     },
     "execution_count": 18,
     "metadata": {},
     "output_type": "execute_result"
    }
   ],
   "source": [
    "Xtab = pd.crosstab(iron.pack, iron.iron)\n",
    "Xtab"
   ]
  },
  {
   "cell_type": "markdown",
   "id": "049bf644",
   "metadata": {},
   "source": [
    "### Hypothesis to check if there is a significant association between which pack (Vein vs. Artery) someone subscribes to and their iron level"
   ]
  },
  {
   "cell_type": "code",
   "execution_count": 19,
   "id": "55c08bcc",
   "metadata": {},
   "outputs": [
    {
     "data": {
      "text/plain": [
       "9.359749337433008e-25"
      ]
     },
     "execution_count": 19,
     "metadata": {},
     "output_type": "execute_result"
    }
   ],
   "source": [
    "from scipy.stats import chi2_contingency\n",
    "chi2, pval, dof, expected = chi2_contingency(Xtab)\n",
    "pval"
   ]
  },
  {
   "cell_type": "code",
   "execution_count": null,
   "id": "92afc650",
   "metadata": {},
   "outputs": [],
   "source": []
  }
 ],
 "metadata": {
  "kernelspec": {
   "display_name": "Python 3",
   "language": "python",
   "name": "python3"
  },
  "language_info": {
   "codemirror_mode": {
    "name": "ipython",
    "version": 3
   },
   "file_extension": ".py",
   "mimetype": "text/x-python",
   "name": "python",
   "nbconvert_exporter": "python",
   "pygments_lexer": "ipython3",
   "version": "3.8.8"
  }
 },
 "nbformat": 4,
 "nbformat_minor": 5
}
